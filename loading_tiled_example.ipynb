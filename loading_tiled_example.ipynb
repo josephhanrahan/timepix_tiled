{
 "cells": [
  {
   "cell_type": "code",
   "execution_count": 1,
   "id": "2f2239c3-66d3-4080-8742-8ba157db43bf",
   "metadata": {
    "tags": []
   },
   "outputs": [
    {
     "name": "stdout",
     "output_type": "stream",
     "text": [
      "/srv/conda/envs/notebook/bin/python\n"
     ]
    }
   ],
   "source": [
    "from tiled.client import from_uri, from_profile\n",
    "import sys\n",
    "import time\n",
    "import pandas as pd\n",
    "print(sys.executable)"
   ]
  },
  {
   "cell_type": "code",
   "execution_count": 2,
   "id": "7b60b12d-bcd7-4f36-860a-65921855e8fd",
   "metadata": {
    "tags": []
   },
   "outputs": [
    {
     "name": "stdout",
     "output_type": "stream",
     "text": [
      "Mon Mar 18 13:18:42 2024\n",
      "Mon Mar 18 13:18:51 2024\n",
      "39294639\n"
     ]
    }
   ],
   "source": [
    "# loading from tiled\n",
    "db_raw = from_uri('https://tiled.nsls2.bnl.gov', 'dask')['chx']['raw']\n",
    "db_proc = from_uri('https://tiled.nsls2.bnl.gov', 'dask')['chx']['processed']\n",
    "db_scan_cent = db_proc['test_mp14_64c7a7ba-865b-4a34-a2ee-c5fae97d2b0f']['cent']\n",
    "\n",
    "print(time.ctime())\n",
    "df_tiled = db_scan_cent._get_partition([0], ['t', 'xc', 'yc', 'ToT_max', 'ToT_sum', 'n'])\n",
    "print(time.ctime())\n",
    "print(sys.getsizeof(df_tiled))"
   ]
  },
  {
   "cell_type": "code",
   "execution_count": 3,
   "id": "ec173fd9-2c05-48df-bbc7-047abaf1ac2b",
   "metadata": {
    "tags": []
   },
   "outputs": [
    {
     "name": "stdout",
     "output_type": "stream",
     "text": [
      "Mon Mar 18 13:18:51 2024\n",
      "Mon Mar 18 13:18:53 2024\n",
      "39294668\n"
     ]
    }
   ],
   "source": [
    "# loading from disk\n",
    "print(time.ctime())\n",
    "df_disk = pd.read_hdf('/nsls2/data/chx/legacy/data/2024/02/05/c6fbbde8-4a79-4bac-86a0_00000_000000_cent.h5', key='df')\n",
    "print(time.ctime())\n",
    "print(sys.getsizeof(df_disk))"
   ]
  }
 ],
 "metadata": {
  "kernelspec": {
   "display_name": "Python /srv/conda",
   "language": "python",
   "name": "new_env"
  },
  "language_info": {
   "codemirror_mode": {
    "name": "ipython",
    "version": 3
   },
   "file_extension": ".py",
   "mimetype": "text/x-python",
   "name": "python",
   "nbconvert_exporter": "python",
   "pygments_lexer": "ipython3",
   "version": "3.9.18"
  }
 },
 "nbformat": 4,
 "nbformat_minor": 5
}
